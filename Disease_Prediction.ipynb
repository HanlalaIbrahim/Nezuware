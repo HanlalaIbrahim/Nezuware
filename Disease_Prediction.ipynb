{
  "nbformat": 4,
  "nbformat_minor": 0,
  "metadata": {
    "colab": {
      "provenance": []
    },
    "kernelspec": {
      "name": "python3",
      "display_name": "Python 3"
    },
    "language_info": {
      "name": "python"
    }
  },
  "cells": [
    {
      "cell_type": "code",
      "execution_count": null,
      "metadata": {
        "id": "_sdlEWjvg-9b"
      },
      "outputs": [],
      "source": [
        "import pandas as pd\n",
        "from sklearn.model_selection import train_test_split\n",
        "from sklearn.preprocessing import StandardScaler, OneHotEncoder\n",
        "from sklearn.compose import ColumnTransformer\n",
        "from sklearn.pipeline import Pipeline\n",
        "from sklearn.ensemble import RandomForestClassifier\n",
        "from sklearn.metrics import classification_report, accuracy_score, confusion_matrix"
      ]
    },
    {
      "cell_type": "code",
      "source": [
        "train_data = pd.read_csv('Training.csv')\n",
        "test_data = pd.read_csv('Testing.csv')"
      ],
      "metadata": {
        "id": "ffBmyXEBh8o8"
      },
      "execution_count": null,
      "outputs": []
    },
    {
      "cell_type": "code",
      "source": [
        "train_data = train_data.loc[:, ~train_data.columns.str.contains('^Unnamed')]\n",
        "test_data = test_data.loc[:, ~test_data.columns.str.contains('^Unnamed')]"
      ],
      "metadata": {
        "id": "q4h1QRuaj31u"
      },
      "execution_count": null,
      "outputs": []
    },
    {
      "cell_type": "code",
      "source": [
        "X_train = train_data.iloc[:, :-1]\n",
        "y_train = train_data.iloc[:, -1]\n",
        "\n",
        "X_test = test_data.iloc[:, :-1]\n",
        "y_test = test_data.iloc[:, -1]"
      ],
      "metadata": {
        "id": "N4igTlo9iHHI"
      },
      "execution_count": null,
      "outputs": []
    },
    {
      "cell_type": "code",
      "source": [
        "X_train = train_data.drop(columns=['prognosis'])\n",
        "y_train = train_data['prognosis']\n",
        "\n",
        "X_test = test_data.drop(columns=['prognosis'])\n",
        "y_test = test_data['prognosis']"
      ],
      "metadata": {
        "id": "GYqfNbfUjGcN"
      },
      "execution_count": null,
      "outputs": []
    },
    {
      "cell_type": "code",
      "source": [
        "X_train = X_train.loc[y_train.index]\n",
        "X_test = X_test.loc[y_test.index]"
      ],
      "metadata": {
        "id": "IuAOG5fOjG8M"
      },
      "execution_count": null,
      "outputs": []
    },
    {
      "cell_type": "code",
      "source": [
        "categorical_features = X_train.select_dtypes(include=['object']).columns"
      ],
      "metadata": {
        "id": "iWxplSjkiOLM"
      },
      "execution_count": null,
      "outputs": []
    },
    {
      "cell_type": "code",
      "source": [
        "preprocessor = ColumnTransformer(\n",
        "    transformers=[\n",
        "        ('num', StandardScaler(), X_train.select_dtypes(include=['int64', 'float64']).columns),\n",
        "        ('cat', OneHotEncoder(), categorical_features)\n",
        "    ])"
      ],
      "metadata": {
        "id": "ONgMlu9iig10"
      },
      "execution_count": null,
      "outputs": []
    },
    {
      "cell_type": "code",
      "source": [
        "model = Pipeline(steps=[\n",
        "    ('preprocessor', preprocessor),\n",
        "    ('classifier', RandomForestClassifier(n_estimators=100, random_state=42))\n",
        "])"
      ],
      "metadata": {
        "id": "aibOpaPiiizY"
      },
      "execution_count": null,
      "outputs": []
    },
    {
      "cell_type": "code",
      "source": [
        "model.fit(X_train, y_train)"
      ],
      "metadata": {
        "colab": {
          "base_uri": "https://localhost:8080/",
          "height": 191
        },
        "id": "_hVQSEwXiuyZ",
        "outputId": "fafbfd73-1f8d-4b28-f8dd-95246623ca19"
      },
      "execution_count": null,
      "outputs": [
        {
          "output_type": "execute_result",
          "data": {
            "text/plain": [
              "Pipeline(steps=[('preprocessor',\n",
              "                 ColumnTransformer(transformers=[('num', StandardScaler(),\n",
              "                                                  Index(['itching', 'skin_rash', 'nodal_skin_eruptions', 'continuous_sneezing',\n",
              "       'shivering', 'chills', 'joint_pain', 'stomach_pain', 'acidity',\n",
              "       'ulcers_on_tongue',\n",
              "       ...\n",
              "       'pus_filled_pimples', 'blackheads', 'scurring', 'skin_peeling',\n",
              "       'silver_like_dusting', 'small_dents_in_nails', 'inflammatory_nails',\n",
              "       'blister', 'red_sore_around_nose', 'yellow_crust_ooze'],\n",
              "      dtype='object', length=132)),\n",
              "                                                 ('cat', OneHotEncoder(),\n",
              "                                                  Index([], dtype='object'))])),\n",
              "                ('classifier', RandomForestClassifier(random_state=42))])"
            ],
            "text/html": [
              "<style>#sk-container-id-1 {color: black;background-color: white;}#sk-container-id-1 pre{padding: 0;}#sk-container-id-1 div.sk-toggleable {background-color: white;}#sk-container-id-1 label.sk-toggleable__label {cursor: pointer;display: block;width: 100%;margin-bottom: 0;padding: 0.3em;box-sizing: border-box;text-align: center;}#sk-container-id-1 label.sk-toggleable__label-arrow:before {content: \"▸\";float: left;margin-right: 0.25em;color: #696969;}#sk-container-id-1 label.sk-toggleable__label-arrow:hover:before {color: black;}#sk-container-id-1 div.sk-estimator:hover label.sk-toggleable__label-arrow:before {color: black;}#sk-container-id-1 div.sk-toggleable__content {max-height: 0;max-width: 0;overflow: hidden;text-align: left;background-color: #f0f8ff;}#sk-container-id-1 div.sk-toggleable__content pre {margin: 0.2em;color: black;border-radius: 0.25em;background-color: #f0f8ff;}#sk-container-id-1 input.sk-toggleable__control:checked~div.sk-toggleable__content {max-height: 200px;max-width: 100%;overflow: auto;}#sk-container-id-1 input.sk-toggleable__control:checked~label.sk-toggleable__label-arrow:before {content: \"▾\";}#sk-container-id-1 div.sk-estimator input.sk-toggleable__control:checked~label.sk-toggleable__label {background-color: #d4ebff;}#sk-container-id-1 div.sk-label input.sk-toggleable__control:checked~label.sk-toggleable__label {background-color: #d4ebff;}#sk-container-id-1 input.sk-hidden--visually {border: 0;clip: rect(1px 1px 1px 1px);clip: rect(1px, 1px, 1px, 1px);height: 1px;margin: -1px;overflow: hidden;padding: 0;position: absolute;width: 1px;}#sk-container-id-1 div.sk-estimator {font-family: monospace;background-color: #f0f8ff;border: 1px dotted black;border-radius: 0.25em;box-sizing: border-box;margin-bottom: 0.5em;}#sk-container-id-1 div.sk-estimator:hover {background-color: #d4ebff;}#sk-container-id-1 div.sk-parallel-item::after {content: \"\";width: 100%;border-bottom: 1px solid gray;flex-grow: 1;}#sk-container-id-1 div.sk-label:hover label.sk-toggleable__label {background-color: #d4ebff;}#sk-container-id-1 div.sk-serial::before {content: \"\";position: absolute;border-left: 1px solid gray;box-sizing: border-box;top: 0;bottom: 0;left: 50%;z-index: 0;}#sk-container-id-1 div.sk-serial {display: flex;flex-direction: column;align-items: center;background-color: white;padding-right: 0.2em;padding-left: 0.2em;position: relative;}#sk-container-id-1 div.sk-item {position: relative;z-index: 1;}#sk-container-id-1 div.sk-parallel {display: flex;align-items: stretch;justify-content: center;background-color: white;position: relative;}#sk-container-id-1 div.sk-item::before, #sk-container-id-1 div.sk-parallel-item::before {content: \"\";position: absolute;border-left: 1px solid gray;box-sizing: border-box;top: 0;bottom: 0;left: 50%;z-index: -1;}#sk-container-id-1 div.sk-parallel-item {display: flex;flex-direction: column;z-index: 1;position: relative;background-color: white;}#sk-container-id-1 div.sk-parallel-item:first-child::after {align-self: flex-end;width: 50%;}#sk-container-id-1 div.sk-parallel-item:last-child::after {align-self: flex-start;width: 50%;}#sk-container-id-1 div.sk-parallel-item:only-child::after {width: 0;}#sk-container-id-1 div.sk-dashed-wrapped {border: 1px dashed gray;margin: 0 0.4em 0.5em 0.4em;box-sizing: border-box;padding-bottom: 0.4em;background-color: white;}#sk-container-id-1 div.sk-label label {font-family: monospace;font-weight: bold;display: inline-block;line-height: 1.2em;}#sk-container-id-1 div.sk-label-container {text-align: center;}#sk-container-id-1 div.sk-container {/* jupyter's `normalize.less` sets `[hidden] { display: none; }` but bootstrap.min.css set `[hidden] { display: none !important; }` so we also need the `!important` here to be able to override the default hidden behavior on the sphinx rendered scikit-learn.org. See: https://github.com/scikit-learn/scikit-learn/issues/21755 */display: inline-block !important;position: relative;}#sk-container-id-1 div.sk-text-repr-fallback {display: none;}</style><div id=\"sk-container-id-1\" class=\"sk-top-container\"><div class=\"sk-text-repr-fallback\"><pre>Pipeline(steps=[(&#x27;preprocessor&#x27;,\n",
              "                 ColumnTransformer(transformers=[(&#x27;num&#x27;, StandardScaler(),\n",
              "                                                  Index([&#x27;itching&#x27;, &#x27;skin_rash&#x27;, &#x27;nodal_skin_eruptions&#x27;, &#x27;continuous_sneezing&#x27;,\n",
              "       &#x27;shivering&#x27;, &#x27;chills&#x27;, &#x27;joint_pain&#x27;, &#x27;stomach_pain&#x27;, &#x27;acidity&#x27;,\n",
              "       &#x27;ulcers_on_tongue&#x27;,\n",
              "       ...\n",
              "       &#x27;pus_filled_pimples&#x27;, &#x27;blackheads&#x27;, &#x27;scurring&#x27;, &#x27;skin_peeling&#x27;,\n",
              "       &#x27;silver_like_dusting&#x27;, &#x27;small_dents_in_nails&#x27;, &#x27;inflammatory_nails&#x27;,\n",
              "       &#x27;blister&#x27;, &#x27;red_sore_around_nose&#x27;, &#x27;yellow_crust_ooze&#x27;],\n",
              "      dtype=&#x27;object&#x27;, length=132)),\n",
              "                                                 (&#x27;cat&#x27;, OneHotEncoder(),\n",
              "                                                  Index([], dtype=&#x27;object&#x27;))])),\n",
              "                (&#x27;classifier&#x27;, RandomForestClassifier(random_state=42))])</pre><b>In a Jupyter environment, please rerun this cell to show the HTML representation or trust the notebook. <br />On GitHub, the HTML representation is unable to render, please try loading this page with nbviewer.org.</b></div><div class=\"sk-container\" hidden><div class=\"sk-item sk-dashed-wrapped\"><div class=\"sk-label-container\"><div class=\"sk-label sk-toggleable\"><input class=\"sk-toggleable__control sk-hidden--visually\" id=\"sk-estimator-id-1\" type=\"checkbox\" ><label for=\"sk-estimator-id-1\" class=\"sk-toggleable__label sk-toggleable__label-arrow\">Pipeline</label><div class=\"sk-toggleable__content\"><pre>Pipeline(steps=[(&#x27;preprocessor&#x27;,\n",
              "                 ColumnTransformer(transformers=[(&#x27;num&#x27;, StandardScaler(),\n",
              "                                                  Index([&#x27;itching&#x27;, &#x27;skin_rash&#x27;, &#x27;nodal_skin_eruptions&#x27;, &#x27;continuous_sneezing&#x27;,\n",
              "       &#x27;shivering&#x27;, &#x27;chills&#x27;, &#x27;joint_pain&#x27;, &#x27;stomach_pain&#x27;, &#x27;acidity&#x27;,\n",
              "       &#x27;ulcers_on_tongue&#x27;,\n",
              "       ...\n",
              "       &#x27;pus_filled_pimples&#x27;, &#x27;blackheads&#x27;, &#x27;scurring&#x27;, &#x27;skin_peeling&#x27;,\n",
              "       &#x27;silver_like_dusting&#x27;, &#x27;small_dents_in_nails&#x27;, &#x27;inflammatory_nails&#x27;,\n",
              "       &#x27;blister&#x27;, &#x27;red_sore_around_nose&#x27;, &#x27;yellow_crust_ooze&#x27;],\n",
              "      dtype=&#x27;object&#x27;, length=132)),\n",
              "                                                 (&#x27;cat&#x27;, OneHotEncoder(),\n",
              "                                                  Index([], dtype=&#x27;object&#x27;))])),\n",
              "                (&#x27;classifier&#x27;, RandomForestClassifier(random_state=42))])</pre></div></div></div><div class=\"sk-serial\"><div class=\"sk-item sk-dashed-wrapped\"><div class=\"sk-label-container\"><div class=\"sk-label sk-toggleable\"><input class=\"sk-toggleable__control sk-hidden--visually\" id=\"sk-estimator-id-2\" type=\"checkbox\" ><label for=\"sk-estimator-id-2\" class=\"sk-toggleable__label sk-toggleable__label-arrow\">preprocessor: ColumnTransformer</label><div class=\"sk-toggleable__content\"><pre>ColumnTransformer(transformers=[(&#x27;num&#x27;, StandardScaler(),\n",
              "                                 Index([&#x27;itching&#x27;, &#x27;skin_rash&#x27;, &#x27;nodal_skin_eruptions&#x27;, &#x27;continuous_sneezing&#x27;,\n",
              "       &#x27;shivering&#x27;, &#x27;chills&#x27;, &#x27;joint_pain&#x27;, &#x27;stomach_pain&#x27;, &#x27;acidity&#x27;,\n",
              "       &#x27;ulcers_on_tongue&#x27;,\n",
              "       ...\n",
              "       &#x27;pus_filled_pimples&#x27;, &#x27;blackheads&#x27;, &#x27;scurring&#x27;, &#x27;skin_peeling&#x27;,\n",
              "       &#x27;silver_like_dusting&#x27;, &#x27;small_dents_in_nails&#x27;, &#x27;inflammatory_nails&#x27;,\n",
              "       &#x27;blister&#x27;, &#x27;red_sore_around_nose&#x27;, &#x27;yellow_crust_ooze&#x27;],\n",
              "      dtype=&#x27;object&#x27;, length=132)),\n",
              "                                (&#x27;cat&#x27;, OneHotEncoder(),\n",
              "                                 Index([], dtype=&#x27;object&#x27;))])</pre></div></div></div><div class=\"sk-parallel\"><div class=\"sk-parallel-item\"><div class=\"sk-item\"><div class=\"sk-label-container\"><div class=\"sk-label sk-toggleable\"><input class=\"sk-toggleable__control sk-hidden--visually\" id=\"sk-estimator-id-3\" type=\"checkbox\" ><label for=\"sk-estimator-id-3\" class=\"sk-toggleable__label sk-toggleable__label-arrow\">num</label><div class=\"sk-toggleable__content\"><pre>Index([&#x27;itching&#x27;, &#x27;skin_rash&#x27;, &#x27;nodal_skin_eruptions&#x27;, &#x27;continuous_sneezing&#x27;,\n",
              "       &#x27;shivering&#x27;, &#x27;chills&#x27;, &#x27;joint_pain&#x27;, &#x27;stomach_pain&#x27;, &#x27;acidity&#x27;,\n",
              "       &#x27;ulcers_on_tongue&#x27;,\n",
              "       ...\n",
              "       &#x27;pus_filled_pimples&#x27;, &#x27;blackheads&#x27;, &#x27;scurring&#x27;, &#x27;skin_peeling&#x27;,\n",
              "       &#x27;silver_like_dusting&#x27;, &#x27;small_dents_in_nails&#x27;, &#x27;inflammatory_nails&#x27;,\n",
              "       &#x27;blister&#x27;, &#x27;red_sore_around_nose&#x27;, &#x27;yellow_crust_ooze&#x27;],\n",
              "      dtype=&#x27;object&#x27;, length=132)</pre></div></div></div><div class=\"sk-serial\"><div class=\"sk-item\"><div class=\"sk-estimator sk-toggleable\"><input class=\"sk-toggleable__control sk-hidden--visually\" id=\"sk-estimator-id-4\" type=\"checkbox\" ><label for=\"sk-estimator-id-4\" class=\"sk-toggleable__label sk-toggleable__label-arrow\">StandardScaler</label><div class=\"sk-toggleable__content\"><pre>StandardScaler()</pre></div></div></div></div></div></div><div class=\"sk-parallel-item\"><div class=\"sk-item\"><div class=\"sk-label-container\"><div class=\"sk-label sk-toggleable\"><input class=\"sk-toggleable__control sk-hidden--visually\" id=\"sk-estimator-id-5\" type=\"checkbox\" ><label for=\"sk-estimator-id-5\" class=\"sk-toggleable__label sk-toggleable__label-arrow\">cat</label><div class=\"sk-toggleable__content\"><pre>Index([], dtype=&#x27;object&#x27;)</pre></div></div></div><div class=\"sk-serial\"><div class=\"sk-item\"><div class=\"sk-estimator sk-toggleable\"><input class=\"sk-toggleable__control sk-hidden--visually\" id=\"sk-estimator-id-6\" type=\"checkbox\" ><label for=\"sk-estimator-id-6\" class=\"sk-toggleable__label sk-toggleable__label-arrow\">OneHotEncoder</label><div class=\"sk-toggleable__content\"><pre>OneHotEncoder()</pre></div></div></div></div></div></div></div></div><div class=\"sk-item\"><div class=\"sk-estimator sk-toggleable\"><input class=\"sk-toggleable__control sk-hidden--visually\" id=\"sk-estimator-id-7\" type=\"checkbox\" ><label for=\"sk-estimator-id-7\" class=\"sk-toggleable__label sk-toggleable__label-arrow\">RandomForestClassifier</label><div class=\"sk-toggleable__content\"><pre>RandomForestClassifier(random_state=42)</pre></div></div></div></div></div></div></div>"
            ]
          },
          "metadata": {},
          "execution_count": 10
        }
      ]
    },
    {
      "cell_type": "code",
      "source": [
        "y_pred = model.predict(X_test)"
      ],
      "metadata": {
        "id": "NoStTtoqiw4O"
      },
      "execution_count": null,
      "outputs": []
    },
    {
      "cell_type": "code",
      "source": [
        "accuracy = accuracy_score(y_test, y_pred)\n",
        "conf_matrix = confusion_matrix(y_test, y_pred)\n",
        "class_report = classification_report(y_test, y_pred)\n",
        "\n",
        "print(f\"Accuracy: {accuracy}\")\n",
        "print(\"Confusion Matrix:\")\n",
        "print(conf_matrix)\n",
        "print(\"Classification Report:\")\n",
        "print(class_report)"
      ],
      "metadata": {
        "colab": {
          "base_uri": "https://localhost:8080/"
        },
        "id": "YfTCI5XRktV5",
        "outputId": "adf247ca-8968-4a68-d4ab-fb6922e4f7ee"
      },
      "execution_count": null,
      "outputs": [
        {
          "output_type": "stream",
          "name": "stdout",
          "text": [
            "Accuracy: 0.9761904761904762\n",
            "Confusion Matrix:\n",
            "[[1 0 0 ... 0 0 0]\n",
            " [0 1 0 ... 0 0 0]\n",
            " [0 0 1 ... 0 0 0]\n",
            " ...\n",
            " [0 0 0 ... 1 0 0]\n",
            " [0 0 0 ... 0 1 0]\n",
            " [0 0 0 ... 0 0 1]]\n",
            "Classification Report:\n",
            "                                         precision    recall  f1-score   support\n",
            "\n",
            "(vertigo) Paroymsal  Positional Vertigo       1.00      1.00      1.00         1\n",
            "                                   AIDS       1.00      1.00      1.00         1\n",
            "                                   Acne       1.00      1.00      1.00         1\n",
            "                    Alcoholic hepatitis       1.00      1.00      1.00         1\n",
            "                                Allergy       1.00      1.00      1.00         1\n",
            "                              Arthritis       1.00      1.00      1.00         1\n",
            "                       Bronchial Asthma       1.00      1.00      1.00         1\n",
            "                   Cervical spondylosis       1.00      1.00      1.00         1\n",
            "                            Chicken pox       1.00      1.00      1.00         1\n",
            "                    Chronic cholestasis       1.00      1.00      1.00         1\n",
            "                            Common Cold       1.00      1.00      1.00         1\n",
            "                                 Dengue       1.00      1.00      1.00         1\n",
            "                              Diabetes        1.00      1.00      1.00         1\n",
            "           Dimorphic hemmorhoids(piles)       1.00      1.00      1.00         1\n",
            "                          Drug Reaction       1.00      1.00      1.00         1\n",
            "                       Fungal infection       1.00      0.50      0.67         2\n",
            "                                   GERD       1.00      1.00      1.00         1\n",
            "                        Gastroenteritis       1.00      1.00      1.00         1\n",
            "                           Heart attack       1.00      1.00      1.00         1\n",
            "                            Hepatitis B       1.00      1.00      1.00         1\n",
            "                            Hepatitis C       1.00      1.00      1.00         1\n",
            "                            Hepatitis D       1.00      1.00      1.00         1\n",
            "                            Hepatitis E       1.00      1.00      1.00         1\n",
            "                          Hypertension        1.00      1.00      1.00         1\n",
            "                        Hyperthyroidism       1.00      1.00      1.00         1\n",
            "                           Hypoglycemia       1.00      1.00      1.00         1\n",
            "                         Hypothyroidism       1.00      1.00      1.00         1\n",
            "                               Impetigo       0.50      1.00      0.67         1\n",
            "                               Jaundice       1.00      1.00      1.00         1\n",
            "                                Malaria       1.00      1.00      1.00         1\n",
            "                               Migraine       1.00      1.00      1.00         1\n",
            "                        Osteoarthristis       1.00      1.00      1.00         1\n",
            "           Paralysis (brain hemorrhage)       1.00      1.00      1.00         1\n",
            "                    Peptic ulcer diseae       1.00      1.00      1.00         1\n",
            "                              Pneumonia       1.00      1.00      1.00         1\n",
            "                              Psoriasis       1.00      1.00      1.00         1\n",
            "                           Tuberculosis       1.00      1.00      1.00         1\n",
            "                                Typhoid       1.00      1.00      1.00         1\n",
            "                Urinary tract infection       1.00      1.00      1.00         1\n",
            "                         Varicose veins       1.00      1.00      1.00         1\n",
            "                            hepatitis A       1.00      1.00      1.00         1\n",
            "\n",
            "                               accuracy                           0.98        42\n",
            "                              macro avg       0.99      0.99      0.98        42\n",
            "                           weighted avg       0.99      0.98      0.98        42\n",
            "\n"
          ]
        }
      ]
    },
    {
      "cell_type": "code",
      "source": [],
      "metadata": {
        "id": "GBuiCJclkvxd"
      },
      "execution_count": null,
      "outputs": []
    }
  ]
}